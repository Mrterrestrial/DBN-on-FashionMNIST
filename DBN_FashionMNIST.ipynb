{
  "cells": [
    {
      "cell_type": "markdown",
      "source": [
        "##Importing necessary library"
      ],
      "metadata": {
        "id": "wnaNYVttSOml"
      },
      "id": "wnaNYVttSOml"
    },
    {
      "cell_type": "markdown",
      "source": [
        "DBN (Deep Belief Network) is a type of deep learning neural network that is composed of multiple layers of Restricted Boltzmann Machines (RBMs) stacked on top of each other. DBNs are trained using unsupervised learning, where the first layer of RBMs learn the features in the input data, then each subsequent RBM layer learns more complex features based on the activations from the previous layer.\n",
        "\n",
        "RBM (Restricted Boltzmann Machine) is a generative stochastic artificial neural network that can learn a probability distribution over its inputs. RBMs have two layers: a visible layer and a hidden layer, and they use a form of probabilistic learning called contrastive divergence to adjust their weights. RBMs are often used as building blocks for deep learning models, such as DBNs and Deep Boltzmann Machines (DBMs)"
      ],
      "metadata": {
        "id": "pGN1oB00qHpg"
      },
      "id": "pGN1oB00qHpg"
    },
    {
      "cell_type": "code",
      "execution_count": null,
      "id": "6ba8f0e3",
      "metadata": {
        "id": "6ba8f0e3"
      },
      "outputs": [],
      "source": [
        "def get_dbn_library():\n",
        "  files = [\"DBN.py\", \"RBM.py\"]\n",
        "  repository_url = \"https://raw.githubusercontent.com/flavio2018/Deep-Belief-Network-pytorch/master/\"\n",
        "  for file in files:\n",
        "    ! wget -O {file} {repository_url}{file}"
      ]
    },
    {
      "cell_type": "code",
      "execution_count": null,
      "id": "27d30fbe",
      "metadata": {
        "id": "27d30fbe"
      },
      "outputs": [],
      "source": [
        "%%capture\n",
        "get_dbn_library()"
      ]
    },
    {
      "cell_type": "code",
      "execution_count": null,
      "id": "29329856",
      "metadata": {
        "id": "29329856"
      },
      "outputs": [],
      "source": [
        "import math\n",
        "import matplotlib.pyplot as plt\n",
        "import numpy as np\n",
        "import pandas as pd\n",
        "import torch\n",
        "import torchvision as tv\n",
        "import torchvision.transforms as transforms\n",
        "import torch.optim as optim\n",
        "import time\n",
        "import torch.nn as nn\n",
        "import torch.nn.functional as F\n",
        "torch.set_printoptions(linewidth=120)\n",
        "from DBN import DBN"
      ]
    },
    {
      "cell_type": "markdown",
      "source": [
        "GPUs are better suited for training machine learning models than CPUs because they have parallel processing capabilities, high memory capacity, and more cores, allowing for faster model training. Additionally, using GPUs is cost-effective compared to using multiple CPUs as a single high-end GPU can perform the same amount of work as multiple CPUs at a lower cost. To summarize, GPUs are more efficient and cost-effective for training machine learning models compared to CPUs."
      ],
      "metadata": {
        "id": "aM2j6_0irvto"
      },
      "id": "aM2j6_0irvto"
    },
    {
      "cell_type": "code",
      "execution_count": null,
      "id": "24d2b7f1",
      "metadata": {
        "colab": {
          "base_uri": "https://localhost:8080/"
        },
        "id": "24d2b7f1",
        "outputId": "09660749-b9c9-43b2-9daa-523a71409edf"
      },
      "outputs": [
        {
          "output_type": "stream",
          "name": "stdout",
          "text": [
            "True\n"
          ]
        }
      ],
      "source": [
        "#check if a GPU is available, If a GPU is available the model will be trained on the GPU \n",
        "print(torch.cuda.is_available())\n",
        "device = torch.device(\"cuda\") if torch.cuda.is_available() else torch.device(\"cpu\")"
      ]
    },
    {
      "cell_type": "markdown",
      "source": [
        "##loading data and Visualizing"
      ],
      "metadata": {
        "id": "3X--0mJMcwMk"
      },
      "id": "3X--0mJMcwMk"
    },
    {
      "cell_type": "markdown",
      "source": [
        "Fashion-MNIST is a dataset of Zalando's article images—consisting of a training set of 60,000 examples and a test set of 10,000 examples. Each example is a 28x28 grayscale image, associated with a label from 10 classes: T-shirt/top, Trouser, Pullover, Dress, Coat, Sandal, Shirt, Sneaker, Bag, Ankle Boot. The dataset serves as a more challenging replacement for the MNIST dataset, which is widely used as a beginner's dataset for machine learning and computer vision algorithms."
      ],
      "metadata": {
        "id": "IlyhBIILsTKF"
      },
      "id": "IlyhBIILsTKF"
    },
    {
      "cell_type": "code",
      "execution_count": null,
      "id": "76ec2b0c",
      "metadata": {
        "id": "76ec2b0c"
      },
      "outputs": [],
      "source": [
        "%%capture\n",
        "FashionMNIST_train = tv.datasets.FashionMNIST('data/', train=True, download=True,\n",
        "                                         transform=tv.transforms.Compose(\n",
        "                                                  [tv.transforms.ToTensor()]\n",
        "                                         ))\n",
        "\n",
        "FashionMNIST_test = tv.datasets.FashionMNIST(\"data/\",\n",
        "                                train=False,\n",
        "                                download=True,\n",
        "                                transform=tv.transforms.Compose(\n",
        "                                        [tv.transforms.ToTensor()]\n",
        "                                ))"
      ]
    },
    {
      "cell_type": "code",
      "source": [
        "#converting our dataset to numpy array\n",
        "\n",
        "X_train = FashionMNIST_train.data.numpy()\n",
        "X_test = FashionMNIST_test.data.numpy()\n",
        "y_train = FashionMNIST_train.targets.numpy()\n",
        "y_test = FashionMNIST_test.targets.numpy()\n",
        "\n",
        "\n",
        "X_train.shape, y_train, X_test.shape, y_test"
      ],
      "metadata": {
        "colab": {
          "base_uri": "https://localhost:8080/"
        },
        "id": "AcoroWc_hDOo",
        "outputId": "2ca6e361-e094-4510-ed31-52938f797c39"
      },
      "id": "AcoroWc_hDOo",
      "execution_count": null,
      "outputs": [
        {
          "output_type": "execute_result",
          "data": {
            "text/plain": [
              "((60000, 28, 28),\n",
              " array([9, 0, 0, ..., 3, 0, 5]),\n",
              " (10000, 28, 28),\n",
              " array([9, 2, 1, ..., 8, 1, 5]))"
            ]
          },
          "metadata": {},
          "execution_count": 6
        }
      ]
    },
    {
      "cell_type": "markdown",
      "source": [
        "The histogram provides a visual representation of the distribution of the values in the data, which can help to identify patterns and outliers. By visualizing the data in this way, the user can gain a better understanding of the data and make informed decisions about preprocessing or normalization steps."
      ],
      "metadata": {
        "id": "e1FrzLUfs5nS"
      },
      "id": "e1FrzLUfs5nS"
    },
    {
      "cell_type": "code",
      "source": [
        "data = pd.Series(X_train.ravel())\n",
        "data.hist()"
      ],
      "metadata": {
        "colab": {
          "base_uri": "https://localhost:8080/",
          "height": 293
        },
        "id": "O2jlAPFkiAyK",
        "outputId": "b2f0401e-cb5e-4d0d-c607-82efdec0605d"
      },
      "id": "O2jlAPFkiAyK",
      "execution_count": null,
      "outputs": [
        {
          "output_type": "execute_result",
          "data": {
            "text/plain": [
              "<matplotlib.axes._subplots.AxesSubplot at 0x7effa95b8910>"
            ]
          },
          "metadata": {},
          "execution_count": 7
        },
        {
          "output_type": "display_data",
          "data": {
            "text/plain": [
              "<Figure size 432x288 with 1 Axes>"
            ],
            "image/png": "[encoded data removed]"
          },
          "metadata": {
            "needs_background": "light"
          }
        }
      ]
    },
    {
      "cell_type": "markdown",
      "source": [
        "MinMaxScaler is a feature scaling method used in machine learning to normalize the features of a dataset to a specific range, usually between 0 and 1. The method scales the features of the dataset by transforming them so that the resulting values fall within the specified range. "
      ],
      "metadata": {
        "id": "7Zn_jh1P1TUb"
      },
      "id": "7Zn_jh1P1TUb"
    },
    {
      "cell_type": "code",
      "source": [
        "from sklearn.preprocessing import MinMaxScaler\n",
        "\n",
        "scaler = MinMaxScaler()\n",
        "X_train = scaler.fit_transform(X_train.reshape(-1, X_train.shape[-1])).reshape(X_train.shape)\n",
        "X_test = scaler.transform(X_test.reshape(-1, X_test.shape[-1])).reshape(X_test.shape)"
      ],
      "metadata": {
        "id": "68kdTX7OiSsw"
      },
      "id": "68kdTX7OiSsw",
      "execution_count": null,
      "outputs": []
    },
    {
      "cell_type": "code",
      "source": [
        "data = pd.Series(X_train.ravel())\n",
        "data.hist()"
      ],
      "metadata": {
        "colab": {
          "base_uri": "https://localhost:8080/",
          "height": 293
        },
        "id": "m93EII7TiU9z",
        "outputId": "566ceef7-9d47-4f20-af62-0d29d944172d"
      },
      "id": "m93EII7TiU9z",
      "execution_count": null,
      "outputs": [
        {
          "output_type": "execute_result",
          "data": {
            "text/plain": [
              "<matplotlib.axes._subplots.AxesSubplot at 0x7effa168c4c0>"
            ]
          },
          "metadata": {},
          "execution_count": 9
        },
        {
          "output_type": "display_data",
          "data": {
            "text/plain": [
              "<Figure size 432x288 with 1 Axes>"
            ],
            "image/png": "[encoded data removed]"
          },
          "metadata": {
            "needs_background": "light"
          }
        }
      ]
    },
    {
      "cell_type": "code",
      "source": [
        "labeldict = {\n",
        "    0: 'T-shirt/top',\n",
        "    1: 'Trouser',\n",
        "    2: 'Pullover',\n",
        "    3: 'Dress',\n",
        "    4: 'Coat',\n",
        "    5: 'Sandal',\n",
        "    6: 'Shirt',\n",
        "    7: 'Sneaker',\n",
        "    8: 'Bag',\n",
        "    9: 'Ankle boot'\n",
        "}\n",
        "\n",
        "plt.figure(figsize=[5,5])\n",
        "\n",
        "# Display the first image in training data\n",
        "plt.subplot(121)\n",
        "curr_img = np.reshape(X_train[10], (28,28))\n",
        "curr_lbl = y_train[10]\n",
        "plt.imshow(curr_img, cmap='gray')\n",
        "plt.title(\"(Label: \" + str(labeldict[curr_lbl]) + \")\")\n",
        "\n",
        "# Display the first image in testing data\n",
        "plt.subplot(122)\n",
        "curr_img = np.reshape(X_test[10], (28,28))\n",
        "curr_lbl = y_test[10]\n",
        "plt.imshow(curr_img, cmap='gray')\n",
        "plt.title(\"(Label: \" + str(labeldict[curr_lbl]) + \")\")"
      ],
      "metadata": {
        "colab": {
          "base_uri": "https://localhost:8080/",
          "height": 208
        },
        "id": "Hvl0NBo8izjX",
        "outputId": "1d15433b-dc04-48fc-a982-12c21582f6f2"
      },
      "id": "Hvl0NBo8izjX",
      "execution_count": null,
      "outputs": [
        {
          "output_type": "execute_result",
          "data": {
            "text/plain": [
              "Text(0.5, 1.0, '(Label: Coat)')"
            ]
          },
          "metadata": {},
          "execution_count": 10
        },
        {
          "output_type": "display_data",
          "data": {
            "text/plain": [
              "<Figure size 360x360 with 2 Axes>"
            ],
            "image/png": "[encoded data removed]"
          },
          "metadata": {
            "needs_background": "light"
          }
        }
      ]
    },
    {
      "cell_type": "markdown",
      "source": [
        "##training DBN"
      ],
      "metadata": {
        "id": "Ho-Q7A6acijM"
      },
      "id": "Ho-Q7A6acijM"
    },
    {
      "cell_type": "markdown",
      "source": [
        "The training of a Deep Belief Network (DBN) consists of two stages: pre-training and fine-tuning.\n",
        "\n",
        "Pre-training: This stage involves training each layer of the DBN using unsupervised learning with Restricted Boltzmann Machines (RBMs). RBMs are shallow generative models that learn to reconstruct the input data. During pre-training, each RBM learns to extract features from the input data and build a hierarchical representation of the data. This is done layer-by-layer, starting from the input layer and moving towards the deeper layers.\n",
        "\n",
        "Fine-tuning: After pre-training, the weights learned by the network are used as the initial weights for the fine-tuning stage, where the network is trained using supervised learning on a labeled dataset to perform a specific task. The network adjusts its weights to minimize the error between the predicted output and the true output.\n",
        "\n",
        "The goal of the DBN is to reduce the amount of supervised training needed and improve the performance of the network by leveraging the unsupervised pre-training stage to learn a good representation of the data. The pre-training stage allows the network to learn a hierarchical representation of the data, which is then used to initialize the network for the fine-tuning stage, making the overall training process more efficient and effective.\n",
        "\n",
        "\n",
        "\n"
      ],
      "metadata": {
        "id": "crSxSLP_7vug"
      },
      "id": "crSxSLP_7vug"
    },
    {
      "cell_type": "code",
      "source": [
        "#conveting numpy array to tourch\n",
        "FashionMNIST_train.data = torch.from_numpy(X_train.reshape(60000, 28, 28))\n",
        "FashionMNIST_test.data = torch.from_numpy(X_test.reshape(10000, 28, 28))\n",
        "FashionMNIST_train.targets = torch.from_numpy(y_train)\n",
        "FashionMNIST_test.targets = torch.from_numpy(y_test)"
      ],
      "metadata": {
        "id": "fK7lBs5Ylwzh"
      },
      "id": "fK7lBs5Ylwzh",
      "execution_count": null,
      "outputs": []
    },
    {
      "cell_type": "code",
      "execution_count": null,
      "id": "a6e5fcb5",
      "metadata": {
        "id": "a6e5fcb5"
      },
      "outputs": [],
      "source": [
        "dbn_FashionMNIST= DBN(visible_units=28*28,\n",
        "                hidden_units=[200, 200, 800],\n",
        "                k=1,\n",
        "                learning_rate=0.1,\n",
        "                learning_rate_decay=False,\n",
        "                initial_momentum=0.5,\n",
        "                final_momentum=0.95,\n",
        "                weight_decay=0.0001,\n",
        "                xavier_init=False,\n",
        "                increase_to_cd_k=False,\n",
        "                use_gpu=torch.cuda.is_available())"
      ]
    },
    {
      "cell_type": "code",
      "execution_count": null,
      "id": "d666e49c",
      "metadata": {
        "colab": {
          "base_uri": "https://localhost:8080/"
        },
        "id": "d666e49c",
        "outputId": "5f1b65e2-08ac-4f85-eaa2-382301d5b6b6"
      },
      "outputs": [
        {
          "output_type": "stream",
          "name": "stdout",
          "text": [
            "--------------------\n",
            "Training RBM layer 1\n",
            "|Epoch |avg_rec_err |std_rec_err  |mean_grad |std_grad  |\n",
            "|10    |2.0669     |0.0907       |230.3772   |4.8061     |\n",
            "|20    |1.9634     |0.0924       |213.4353   |4.7841     |\n",
            "|30    |1.9307     |0.0887       |207.2806   |4.9724     |\n",
            "|40    |1.9165     |0.0887       |203.8678   |4.3138     |\n",
            "|50    |1.9061     |0.0877       |203.1244   |3.9782     |\n",
            "|60    |1.9009     |0.0888       |203.5195   |4.5365     |\n",
            "|70    |1.8953     |0.0862       |201.3572   |4.5782     |\n",
            "|80    |1.8913     |0.0849       |199.8565   |3.9312     |\n",
            "|90    |1.8875     |0.0866       |199.0006   |3.5394     |\n",
            "|100    |1.8859     |0.0877       |199.2619   |3.5386     |\n",
            "--------------------\n",
            "Training RBM layer 2\n",
            "|Epoch |avg_rec_err |std_rec_err  |mean_grad |std_grad  |\n",
            "|10    |1.8818     |0.0687       |58.8516   |1.6148     |\n",
            "|20    |1.7797     |0.0609       |56.5391   |1.6114     |\n",
            "|30    |1.7434     |0.0609       |55.3363   |1.2132     |\n",
            "|40    |1.7286     |0.0617       |54.9049   |1.2631     |\n",
            "|50    |1.7205     |0.0627       |54.4688   |1.3273     |\n",
            "|60    |1.7094     |0.0621       |53.9029   |1.2234     |\n",
            "|70    |1.7053     |0.0585       |53.5994   |1.2383     |\n",
            "|80    |1.7034     |0.0601       |53.4591   |1.2917     |\n",
            "|90    |1.6991     |0.0584       |53.3812   |1.3385     |\n",
            "|100    |1.6954     |0.0609       |53.4172   |1.2982     |\n",
            "--------------------\n",
            "Training RBM layer 3\n",
            "|Epoch |avg_rec_err |std_rec_err  |mean_grad |std_grad  |\n",
            "|10    |1.6830     |0.0566       |90.4950   |2.1955     |\n",
            "|20    |1.4991     |0.0527       |78.5815   |1.5931     |\n",
            "|30    |1.4535     |0.0501       |75.2170   |1.7075     |\n",
            "|40    |1.4420     |0.0500       |73.3543   |1.3787     |\n",
            "|50    |1.4342     |0.0504       |72.3291   |1.4326     |\n",
            "|60    |1.4306     |0.0516       |72.0686   |1.8788     |\n",
            "|70    |1.4266     |0.0512       |71.9468   |1.6487     |\n",
            "|80    |1.4268     |0.0525       |71.6734   |1.7630     |\n",
            "|90    |1.4227     |0.0508       |71.2789   |1.6957     |\n",
            "|100    |1.4180     |0.0479       |70.5660   |1.2680     |\n"
          ]
        }
      ],
      "source": [
        "num_epochs = 100\n",
        "batch_size = 128\n",
        "\n",
        "dbn_FashionMNIST.train_static(\n",
        "    FashionMNIST_train.data,\n",
        "    FashionMNIST_train.targets,\n",
        "    num_epochs,\n",
        "    batch_size\n",
        ")"
      ]
    },
    {
      "cell_type": "markdown",
      "source": [
        "## Linear read-out"
      ],
      "metadata": {
        "id": "bMZz7kv2cFrt"
      },
      "id": "bMZz7kv2cFrt"
    },
    {
      "cell_type": "markdown",
      "source": [
        "A linear readout of the representations computed by a Deep Belief Network (DBN) at each layer refers to using the activations of each layer as input features for a linear classifier, such as a logistic regression model. The activations at each layer can be thought of as a set of features that represent the input data, and the linear readout uses these features to make predictions.\n",
        "\n",
        "In a DBN, each layer of the network learns a more abstract representation of the data compared to the previous layer. By using the activations at each layer as input features, the linear readout can take advantage of the hierarchical representation learned by the network, using a combination of low-level and high-level features to make predictions.\n",
        "\n",
        "The linear readout can be trained using supervised learning on a labeled dataset, adjusting its weights to minimize the error between the predicted output and the true output. The overall goal of the linear readout is to use the representations computed by the DBN to make predictions for a specific task, leveraging the hierarchical representation learned by the network to improve the performance of the classifier.\n",
        "\n",
        "The code first trains the RBM layers by using the input image data and passes the hidden representation at each layer to the next RBM layer. Then, the linear model is trained with the hidden representations obtained from each of the RBM layers. Finally, the accuracy of the predictions from the trained linear models is calculated by comparing them with the actual labels in the test set."
      ],
      "metadata": {
        "id": "EBxH4Tfl8plV"
      },
      "id": "EBxH4Tfl8plV"
    },
    {
      "cell_type": "code",
      "source": [
        "#returns the representation of the input data at the kth layer of a Deep Belief Network (DBN)\n",
        "def get_kth_layer_repr(input, k, device):\n",
        "  flattened_input = input.view((input.shape[0], -1)).type(torch.FloatTensor).to(device)\n",
        "  hidden_repr, __ = dbn_FashionMNIST.rbm_layers[k].to_hidden(flattened_input)  # here we access the RBM object\n",
        "  return hidden_repr"
      ],
      "metadata": {
        "id": "0I22UPLCcGOD"
      },
      "id": "0I22UPLCcGOD",
      "execution_count": null,
      "outputs": []
    },
    {
      "cell_type": "code",
      "source": [
        "hidden_repr_layer_1 = get_kth_layer_repr(FashionMNIST_train.data, 0, device)\n",
        "hidden_repr_layer_2 = get_kth_layer_repr(hidden_repr_layer_1, 1, device)\n",
        "hidden_repr_layer_3 = get_kth_layer_repr(hidden_repr_layer_2, 2, device)"
      ],
      "metadata": {
        "id": "77H4Y0y-bc17"
      },
      "id": "77H4Y0y-bc17",
      "execution_count": null,
      "outputs": []
    },
    {
      "cell_type": "code",
      "source": [
        "class LinearModel(torch.nn.Module):\n",
        "  def __init__(self, last_layer_size):\n",
        "    super().__init__()\n",
        "    self.linear = torch.nn.Linear(last_layer_size, 10)\n",
        "\n",
        "  def forward(self, x):\n",
        "    return self.linear(x)"
      ],
      "metadata": {
        "id": "EvKrjf_-bgRg"
      },
      "id": "EvKrjf_-bgRg",
      "execution_count": null,
      "outputs": []
    },
    {
      "cell_type": "code",
      "source": [
        "#specifies the number of units in the input layer.\n",
        "\n",
        "layer_size = dbn_FashionMNIST.rbm_layers[0].W.shape[1]\n",
        "linear1 = LinearModel(layer_size).to(device)\n",
        "\n",
        "layer_size = dbn_FashionMNIST.rbm_layers[1].W.shape[1]\n",
        "linear2 = LinearModel(layer_size).to(device)\n",
        "\n",
        "layer_size = dbn_FashionMNIST.rbm_layers[2].W.shape[1]\n",
        "linear3 = LinearModel(layer_size).to(device)"
      ],
      "metadata": {
        "id": "bDQKua-uOnpu"
      },
      "id": "bDQKua-uOnpu",
      "execution_count": null,
      "outputs": []
    },
    {
      "cell_type": "markdown",
      "source": [
        "The code makes use of PyTorch library for deep learning, which provides built-in functions for training and evaluating models. The optimizer used for training is stochastic gradient descent (SGD), and the loss function used is cross-entropy loss. The implementation uses the GPU for acceleration if available.\n",
        "\n",
        " SGD is an optimization algorithm that is commonly used in deep learning models for updating the model parameters based on the gradient of the loss function with respect to the parameters. In the code, the SGD optimizer is created with a learning rate of 0.05, and is used to optimize the parameters of the linear models in each iteration of the training loop.\n",
        "\n",
        "\n",
        "Cross-entropy loss, also known as log loss, measures the dissimilarity between two probability distributions. It is widely used in machine learning, particularly in the training of classification models. The formula for cross-entropy loss is given as:\n",
        "\n",
        "L = -∑ (t_i * log(y_i))\n",
        "\n",
        "where t_i is the true label (i.e. ground truth) and y_i is the predicted probability of the correct label. The cross-entropy loss measures the \"distance\" between the true label and predicted probabilities, with a lower value indicating that the predicted probabilities are closer to the true label.\n",
        "\n",
        "\n"
      ],
      "metadata": {
        "id": "npET1WlkAVMD"
      },
      "id": "npET1WlkAVMD"
    },
    {
      "cell_type": "code",
      "source": [
        "def train(network, input, epochs=1500):\n",
        "  optimizer = torch.optim.SGD(network.parameters(), lr=0.001, momentum=0.9)\n",
        "  loss_fn = torch.nn.CrossEntropyLoss()\n",
        "\n",
        "  for epoch in range(epochs):\n",
        "    optimizer.zero_grad()\n",
        "    predictions = network(input).squeeze()\n",
        "    targets = FashionMNIST_train.targets.reshape(predictions.shape[0]).to(device)  # here are the labels\n",
        "    loss = loss_fn(predictions, targets)\n",
        "    loss.backward()\n",
        "    optimizer.step()\n",
        "\n",
        "    if epoch % 100 == 0:\n",
        "      print(\"epoch : {:3d}/{}, loss = {:.4f}\".format(epoch + 1, epochs, loss))"
      ],
      "metadata": {
        "id": "vVJ_SIEnOnBU"
      },
      "id": "vVJ_SIEnOnBU",
      "execution_count": null,
      "outputs": []
    },
    {
      "cell_type": "code",
      "source": [
        "train(linear1, hidden_repr_layer_1)\n",
        "train(linear2, hidden_repr_layer_2)\n",
        "train(linear3, hidden_repr_layer_3)"
      ],
      "metadata": {
        "colab": {
          "base_uri": "https://localhost:8080/"
        },
        "id": "or35uL9bOm4O",
        "outputId": "28a5e3bd-843a-4e6c-9d62-304f5e176d14"
      },
      "id": "or35uL9bOm4O",
      "execution_count": null,
      "outputs": [
        {
          "output_type": "stream",
          "name": "stdout",
          "text": [
            "epoch :   1/1500, loss = 2.4039\n",
            "epoch : 101/1500, loss = 0.9733\n",
            "epoch : 201/1500, loss = 0.7561\n",
            "epoch : 301/1500, loss = 0.6700\n",
            "epoch : 401/1500, loss = 0.6218\n",
            "epoch : 501/1500, loss = 0.5899\n",
            "epoch : 601/1500, loss = 0.5666\n",
            "epoch : 701/1500, loss = 0.5486\n",
            "epoch : 801/1500, loss = 0.5342\n",
            "epoch : 901/1500, loss = 0.5222\n",
            "epoch : 1001/1500, loss = 0.5121\n",
            "epoch : 1101/1500, loss = 0.5034\n",
            "epoch : 1201/1500, loss = 0.4958\n",
            "epoch : 1301/1500, loss = 0.4890\n",
            "epoch : 1401/1500, loss = 0.4831\n",
            "epoch :   1/1500, loss = 2.3507\n",
            "epoch : 101/1500, loss = 0.8485\n",
            "epoch : 201/1500, loss = 0.6882\n",
            "epoch : 301/1500, loss = 0.6241\n",
            "epoch : 401/1500, loss = 0.5867\n",
            "epoch : 501/1500, loss = 0.5611\n",
            "epoch : 601/1500, loss = 0.5420\n",
            "epoch : 701/1500, loss = 0.5271\n",
            "epoch : 801/1500, loss = 0.5150\n",
            "epoch : 901/1500, loss = 0.5050\n",
            "epoch : 1001/1500, loss = 0.4965\n",
            "epoch : 1101/1500, loss = 0.4892\n",
            "epoch : 1201/1500, loss = 0.4828\n",
            "epoch : 1301/1500, loss = 0.4772\n",
            "epoch : 1401/1500, loss = 0.4722\n",
            "epoch :   1/1500, loss = 2.2823\n",
            "epoch : 101/1500, loss = 0.8848\n",
            "epoch : 201/1500, loss = 0.6998\n",
            "epoch : 301/1500, loss = 0.6272\n",
            "epoch : 401/1500, loss = 0.5860\n",
            "epoch : 501/1500, loss = 0.5584\n",
            "epoch : 601/1500, loss = 0.5381\n",
            "epoch : 701/1500, loss = 0.5224\n",
            "epoch : 801/1500, loss = 0.5098\n",
            "epoch : 901/1500, loss = 0.4994\n",
            "epoch : 1001/1500, loss = 0.4905\n",
            "epoch : 1101/1500, loss = 0.4829\n",
            "epoch : 1201/1500, loss = 0.4763\n",
            "epoch : 1301/1500, loss = 0.4705\n",
            "epoch : 1401/1500, loss = 0.4653\n"
          ]
        }
      ]
    },
    {
      "cell_type": "code",
      "source": [
        "hidden_repr_layer_1_test = get_kth_layer_repr(FashionMNIST_test.data, 0, device)\n",
        "hidden_repr_layer_2_test = get_kth_layer_repr(hidden_repr_layer_1_test, 1, device)\n",
        "hidden_repr_layer_3_test = get_kth_layer_repr(hidden_repr_layer_2_test, 2, device)"
      ],
      "metadata": {
        "id": "qCY52uuCcSHE"
      },
      "id": "qCY52uuCcSHE",
      "execution_count": null,
      "outputs": []
    },
    {
      "cell_type": "code",
      "source": [
        "# here we compute the predictions\n",
        "predictions_test1 = linear1(hidden_repr_layer_1_test)\n",
        "predictions_test2 = linear2(hidden_repr_layer_2_test)\n",
        "predictions_test3 = linear3(hidden_repr_layer_3_test)"
      ],
      "metadata": {
        "id": "X4gUPge7cUxo"
      },
      "id": "X4gUPge7cUxo",
      "execution_count": null,
      "outputs": []
    },
    {
      "cell_type": "code",
      "source": [
        "#computes the accuracy of predictions\n",
        "def compute_accuracy(predictions_test, targets):\n",
        "  predictions_indices = predictions_test.max(axis=1).indices  # convert probabilities to indices\n",
        "  accuracy = (predictions_indices == targets).sum() / len(targets)\n",
        "  return accuracy.item()"
      ],
      "metadata": {
        "id": "dLTWRWXbcXEw"
      },
      "id": "dLTWRWXbcXEw",
      "execution_count": null,
      "outputs": []
    },
    {
      "cell_type": "code",
      "source": [
        "compute_accuracy(predictions_test1, FashionMNIST_test.targets.to(device))"
      ],
      "metadata": {
        "colab": {
          "base_uri": "https://localhost:8080/"
        },
        "id": "qdtQR8qdca5j",
        "outputId": "b039f0f7-abaa-4ecc-abae-5a36fe3f07e4"
      },
      "id": "qdtQR8qdca5j",
      "execution_count": null,
      "outputs": [
        {
          "output_type": "execute_result",
          "data": {
            "text/plain": [
              "0.8252999782562256"
            ]
          },
          "metadata": {},
          "execution_count": 23
        }
      ]
    },
    {
      "cell_type": "code",
      "source": [
        "compute_accuracy(predictions_test2, FashionMNIST_test.targets.to(device))"
      ],
      "metadata": {
        "colab": {
          "base_uri": "https://localhost:8080/"
        },
        "id": "2LKL_vfgcbfS",
        "outputId": "950c8b3e-c450-4ad4-8fbf-0631d6caa342"
      },
      "id": "2LKL_vfgcbfS",
      "execution_count": null,
      "outputs": [
        {
          "output_type": "execute_result",
          "data": {
            "text/plain": [
              "0.8269000053405762"
            ]
          },
          "metadata": {},
          "execution_count": 24
        }
      ]
    },
    {
      "cell_type": "code",
      "source": [
        "compute_accuracy(predictions_test3, FashionMNIST_test.targets.to(device))"
      ],
      "metadata": {
        "colab": {
          "base_uri": "https://localhost:8080/"
        },
        "id": "j2hXVRMvceKI",
        "outputId": "daa8bc86-ea7c-4435-f738-edc0637210d7"
      },
      "id": "j2hXVRMvceKI",
      "execution_count": null,
      "outputs": [
        {
          "output_type": "execute_result",
          "data": {
            "text/plain": [
              "0.8296999931335449"
            ]
          },
          "metadata": {},
          "execution_count": 25
        }
      ]
    },
    {
      "cell_type": "markdown",
      "source": [
        "##Comparison with a feed-forward model"
      ],
      "metadata": {
        "id": "7g4zpJ9qD1KG"
      },
      "id": "7g4zpJ9qD1KG"
    },
    {
      "cell_type": "markdown",
      "source": [
        "\n",
        "A Feedforward Neural Network (FFNN) model is a type of artificial neural network that is organized in layers and moves data in a forward direction, from input layer to output layer, without looping back. The mathematical formulation of an FFNN can be represented as follows:\n",
        "\n",
        "Given an input vector X of size (n x 1), where n is the number of features, the output of each layer l can be represented as:\n",
        "\n",
        "Z_l = W_l * A_{l-1} + b_l\n",
        "\n",
        "Where W_l is the weight matrix of size (m_l x m_{l-1}), b_l is the bias vector of size (m_l x 1), A_{l-1} is the activation matrix of size (m_{l-1} x 1), m_l is the number of neurons in layer l, and * represents the dot product.\n",
        "\n",
        "The activation matrix A_l is then obtained by applying an activation function f_l to the result Z_l:\n",
        "\n",
        "A_l = f_l(Z_l)\n",
        "\n",
        "Common activation functions include the sigmoid function, hyperbolic tangent, and Rectified Linear Unit (ReLU).\n",
        "\n",
        "Once the output of the last layer is obtained, the prediction Y_hat is made by taking the dot product of the final activation matrix A_L with another weight matrix W_{L+1} and adding the bias vector b_{L+1}:\n",
        "\n",
        "Y_hat = W_{L+1} * A_L + b_{L+1}"
      ],
      "metadata": {
        "id": "ACFxednaHLWQ"
      },
      "id": "ACFxednaHLWQ"
    },
    {
      "cell_type": "code",
      "source": [
        "class FashionMnistModel(nn.Module):\n",
        "    def __init__(self, in_size, out_size):\n",
        "        super().__init__()\n",
        "        self.linears = nn.Sequential(\n",
        "            nn.Linear(in_size, 200),\n",
        "            nn.ReLU(),\n",
        "            nn.Linear(200, 200),\n",
        "            nn.ReLU(),\n",
        "            nn.Linear(200, 800),\n",
        "            nn.ReLU(),\n",
        "            nn.Linear(800, out_size)\n",
        "        )\n",
        "        \n",
        "    def forward(self, xb):\n",
        "        out = xb.view(xb.size(0), -1).to(torch.float32)\n",
        "        return self.linears(out)"
      ],
      "metadata": {
        "id": "_V7-PjQ2D2_0"
      },
      "id": "_V7-PjQ2D2_0",
      "execution_count": null,
      "outputs": []
    },
    {
      "cell_type": "code",
      "source": [
        "ffnn = FashionMnistModel(784, 10).to(device)"
      ],
      "metadata": {
        "id": "-TNxdIeJD6fQ"
      },
      "id": "-TNxdIeJD6fQ",
      "execution_count": null,
      "outputs": []
    },
    {
      "cell_type": "markdown",
      "source": [
        "The FFNN is then instantiated with an input size of 784 (as the Fashion MNIST images are 28x28 and flattened to a 1D vector) and an output size of 10 (as there are 10 classes in the dataset). The model is moved to GPU and trained for 1500 epochs using the \"train\" function."
      ],
      "metadata": {
        "id": "3q_48uNN9rlU"
      },
      "id": "3q_48uNN9rlU"
    },
    {
      "cell_type": "code",
      "source": [
        "train(ffnn, FashionMNIST_train.data.to(device), epochs=1500)"
      ],
      "metadata": {
        "colab": {
          "base_uri": "https://localhost:8080/"
        },
        "id": "yrQKAKfFEGcU",
        "outputId": "279617bf-f01d-4e3f-d2a8-1b65f66130d5"
      },
      "id": "yrQKAKfFEGcU",
      "execution_count": null,
      "outputs": [
        {
          "output_type": "stream",
          "name": "stdout",
          "text": [
            "epoch :   1/1500, loss = 2.2998\n",
            "epoch : 101/1500, loss = 1.4128\n",
            "epoch : 201/1500, loss = 0.9143\n",
            "epoch : 301/1500, loss = 0.7651\n",
            "epoch : 401/1500, loss = 0.6817\n",
            "epoch : 501/1500, loss = 0.6224\n",
            "epoch : 601/1500, loss = 0.5839\n",
            "epoch : 701/1500, loss = 0.5573\n",
            "epoch : 801/1500, loss = 0.5357\n",
            "epoch : 901/1500, loss = 0.5150\n",
            "epoch : 1001/1500, loss = 0.4903\n",
            "epoch : 1101/1500, loss = 0.4735\n",
            "epoch : 1201/1500, loss = 0.4693\n",
            "epoch : 1301/1500, loss = 0.4533\n",
            "epoch : 1401/1500, loss = 0.4425\n"
          ]
        }
      ]
    },
    {
      "cell_type": "code",
      "source": [
        "predictions_ffnn = ffnn(FashionMNIST_test.data.to(device))"
      ],
      "metadata": {
        "id": "6eqBmqOQEIeh"
      },
      "id": "6eqBmqOQEIeh",
      "execution_count": null,
      "outputs": []
    },
    {
      "cell_type": "code",
      "source": [
        "compute_accuracy(predictions_ffnn, FashionMNIST_test.targets.to(device))"
      ],
      "metadata": {
        "colab": {
          "base_uri": "https://localhost:8080/"
        },
        "id": "Kz2qbuspEKd5",
        "outputId": "c7e07c33-d769-48f7-85e5-71be089cf3ac"
      },
      "id": "Kz2qbuspEKd5",
      "execution_count": null,
      "outputs": [
        {
          "output_type": "execute_result",
          "data": {
            "text/plain": [
              "0.8294999599456787"
            ]
          },
          "metadata": {},
          "execution_count": 30
        }
      ]
    },
    {
      "cell_type": "markdown",
      "source": [
        "##psychometric curves"
      ],
      "metadata": {
        "id": "dQrpbF5Xk6Fg"
      },
      "id": "dQrpbF5Xk6Fg"
    },
    {
      "cell_type": "markdown",
      "source": [
        "The given code implements a study to analyze the robustness of various models to noise in their input data. The purpose of the study is to test the models' performance in the presence of noisy inputs. \n",
        "\n",
        "\n",
        "Robustness of models to noisy input data refers to the ability of a model to maintain a consistent and accurate performance even when the input data is contaminated by noise. This property is crucial for real-world applications where the input data may not always be of high quality or may contain errors or uncertainties. A robust model should be able to effectively process noisy input data and produce accurate and reliable outputs. The formal definition of robustness to noisy input data is typically quantified by measuring the deviation of model performance on noisy input data from the performance on clean input data, and determining the level of noise that the model can withstand without significant degradation of performance.\n",
        "\n",
        "\n",
        "\n",
        "The Gaussian noise model is a statistical noise model used to add random noise to input data. It is based on the Gaussian distribution, also known as the normal distribution. The Gaussian distribution is a continuous probability distribution that is symmetrical around its mean, represented by a bell-shaped curve.\n",
        "The Gaussian noise model is characterized by the following formula:\n",
        "\n",
        "y = x + N(0,σ^2)\n",
        "\n",
        "where y is the noisy input, x is the original input, N(0,σ^2) represents Gaussian noise with mean 0 and variance σ^2. The noise is added element-wise to the input data x\n",
        "\n",
        "\n",
        "To make predictions on noisy input data, we add Gaussian noise to the input vector X and feed the noisy input into the FFNN model. The model then outputs a prediction Y_hat based on the noisy input. The objective is to train the FFNN such that it is robust to the noise in the input and produces accurate predictions despite the added noise."
      ],
      "metadata": {
        "id": "71P4HYQ7iCsQ"
      },
      "id": "71P4HYQ7iCsQ"
    },
    {
      "cell_type": "code",
      "source": [
        "#function serves the purpose of adding noise to the input data to test the robustness of a model in the presence of noisy inputs.\n",
        "#adds a specified level of noise to the input data by adding Gaussian noise with a mean of 0 and standard deviation of 1 to the input data.\n",
        "def inject_noise(FashionMNIST_data, noise_level):\n",
        "  X_train_noise = FashionMNIST_data + noise_level * np.random.normal(loc=0.0, scale=1.0, size=FashionMNIST_data.shape) \n",
        "  return(X_train_noise.to(device))"
      ],
      "metadata": {
        "id": "ogzH-kOwqJw1"
      },
      "id": "ogzH-kOwqJw1",
      "execution_count": null,
      "outputs": []
    },
    {
      "cell_type": "code",
      "source": [
        "noise_level = 0.1\n",
        "Fashion_test_with_noise = inject_noise(FashionMNIST_test.data, noise_level)\n",
        "__ = plt.imshow(Fashion_test_with_noise[0].reshape(28, 28).to(\"cpu\"), cmap=\"gray\")"
      ],
      "metadata": {
        "colab": {
          "base_uri": "https://localhost:8080/",
          "height": 265
        },
        "id": "NlsNcd1Cssvn",
        "outputId": "a5ba4daf-7f31-4b63-a25c-654dc3704eae"
      },
      "id": "NlsNcd1Cssvn",
      "execution_count": null,
      "outputs": [
        {
          "output_type": "display_data",
          "data": {
            "text/plain": [
              "<Figure size 432x288 with 1 Axes>"
            ],
            "image/png": "[encoded data removed]"
          },
          "metadata": {
            "needs_background": "light"
          }
        }
      ]
    },
    {
      "cell_type": "markdown",
      "source": [
        "The function computes the representation of the noisy input data in the first, second, and third hidden layers of the DBN, and uses three separate classifiers to make predictions based on each hidden layer representation. The predictions from the FFNN on the noisy input data are also computed.The accuracy of all models on the noisy input data is calculated using a \"compute_accuracy\" function."
      ],
      "metadata": {
        "id": "QC1FgVH4Fky5"
      },
      "id": "QC1FgVH4Fky5"
    },
    {
      "cell_type": "code",
      "source": [
        "#function computes the accuracy of different models on noisy test data.\n",
        "def get_accuracy_values_at_noise_level(noise_level):\n",
        "\n",
        "  # first, let's create noisy test images\n",
        "  Fashion_test_with_noise = inject_noise(FashionMNIST_test.data, noise_level)  \n",
        "  \n",
        "  # here we compute the DBN representations\n",
        "  hidden_repr_layer_1_noisy = get_kth_layer_repr(Fashion_test_with_noise, 0, device)  \n",
        "  hidden_repr_layer_2_noisy = get_kth_layer_repr(hidden_repr_layer_1_noisy, 1, device)\n",
        "  hidden_repr_layer_3_noisy = get_kth_layer_repr(hidden_repr_layer_2_noisy, 2, device)\n",
        "  \n",
        "  # here we use the previously-trained read-out classifiers\n",
        "  predictions_first_hidden_noisy = linear1(hidden_repr_layer_1_noisy)  \n",
        "  predictions_second_hidden_noisy = linear2(hidden_repr_layer_2_noisy)\n",
        "  predictions_third_hidden_noisy = linear3(hidden_repr_layer_3_noisy)\n",
        "  \n",
        "  accuracy_first_hidden = compute_accuracy(predictions_first_hidden_noisy, FashionMNIST_test.targets.to(device))\n",
        "  accuracy_second_hidden = compute_accuracy(predictions_second_hidden_noisy, FashionMNIST_test.targets.to(device))\n",
        "  accuracy_third_hidden = compute_accuracy(predictions_third_hidden_noisy, FashionMNIST_test.targets.to(device))\n",
        "  \n",
        "  predictions_ffnn_noisy_data = ffnn(Fashion_test_with_noise)\n",
        "  accuracy_ffnn = compute_accuracy(predictions_ffnn_noisy_data, FashionMNIST_test.targets.to(device))\n",
        "\n",
        "  return accuracy_first_hidden, accuracy_second_hidden, accuracy_third_hidden, accuracy_ffnn"
      ],
      "metadata": {
        "id": "V_01LKxSpLgK"
      },
      "id": "V_01LKxSpLgK",
      "execution_count": null,
      "outputs": []
    },
    {
      "cell_type": "code",
      "source": [
        "def plot_noise_robustness_curves(noise_levels):\n",
        "  accuracy_values_first_hidden = []\n",
        "  accuracy_values_second_hidden = []\n",
        "  accuracy_values_third_hidden = []\n",
        "  accuracy_values_ffnn = []\n",
        "\n",
        "  for noise_level in noise_levels:\n",
        "    acc = get_accuracy_values_at_noise_level(noise_level)\n",
        "    accuracy_values_first_hidden.append(acc[0])\n",
        "    accuracy_values_second_hidden.append(acc[1])\n",
        "    accuracy_values_third_hidden.append(acc[2])\n",
        "    accuracy_values_ffnn.append(acc[3])\n",
        "\n",
        "  fig, ax = plt.subplots()\n",
        "  ax.plot(range(len(noise_levels)), accuracy_values_first_hidden)\n",
        "  ax.plot(range(len(noise_levels)), accuracy_values_second_hidden)\n",
        "  ax.plot(range(len(noise_levels)), accuracy_values_third_hidden)\n",
        "  ax.plot(range(len(noise_levels)), accuracy_values_ffnn)\n",
        "\n",
        "  ax.set_title(\"Robustness to noise\")\n",
        "  ax.set_xlabel(\"Noise level (%)\")\n",
        "  ax.set_ylabel(\"Accuracy\")\n",
        "  plt.xticks(range(len(noise_levels)), [int(l*100) for l in noise_levels])\n",
        "  plt.legend([\"First hidden\", \"Second hidden\", \"Third hidden\", \"FFNN\"])"
      ],
      "metadata": {
        "id": "3Mf4FW2Jk9pD"
      },
      "id": "3Mf4FW2Jk9pD",
      "execution_count": null,
      "outputs": []
    },
    {
      "cell_type": "code",
      "source": [
        "noise_levels = [0, 0.1, 0.2, 0.3, 0.4, 0.5, 0.6, 0.7, 0.8, 0.9, 1.0, 1.1, 1.2, 1.3]\n",
        "plot_noise_robustness_curves(noise_levels)"
      ],
      "metadata": {
        "colab": {
          "base_uri": "https://localhost:8080/",
          "height": 295
        },
        "id": "_8WSnanCozpB",
        "outputId": "10caa5f5-4111-4b31-b8c7-db740ef2f731"
      },
      "id": "_8WSnanCozpB",
      "execution_count": null,
      "outputs": [
        {
          "output_type": "display_data",
          "data": {
            "text/plain": [
              "<Figure size 432x288 with 1 Axes>"
            ],
            "image/png": "[encoded data removed]"
          },
          "metadata": {
            "needs_background": "light"
          }
        }
      ]
    },
    {
      "cell_type": "markdown",
      "source": [
        "## Clustering internal representations"
      ],
      "metadata": {
        "id": "6m51onFwY2Y4"
      },
      "id": "6m51onFwY2Y4"
    },
    {
      "cell_type": "markdown",
      "source": [
        "Clustering internal representations refers to the process of grouping similar internal representations (hidden activations or embeddings) of a deep learning model into clusters. The objective of clustering internal representations is to understand the underlying structure and patterns within the data that the model has learned to represent. The resulting clusters can be visualized and analyzed to gain insights into the model's behavior and interpretability. Clustering can also be used to identify and diagnose potential problems in the model's representations, such as overfitting or poor generalization.\n",
        "\n",
        "The purpose of this code is to visualize the relationships between different classes in the neural network by clustering their mean hidden representations. The dendrogram produced by the clustering algorithm can help interpret the structure of the hidden representations.\n",
        "\n",
        "\n",
        "\n"
      ],
      "metadata": {
        "id": "GQsjyQYulMAT"
      },
      "id": "GQsjyQYulMAT"
    },
    {
      "cell_type": "code",
      "source": [
        "#filtering the target data based on the class\n",
        "def get_mask(label): \n",
        "  labels = FashionMNIST_train.targets.cpu().numpy()\n",
        "  return labels == label\n",
        "\n",
        "#calculate the mean hidden representation of each class.\n",
        "def get_label_to_mean_hidd_repr(hidden_representation):\n",
        "  hidden_representation_np = hidden_representation.cpu().numpy()\n",
        "  return {\n",
        "    label: hidden_representation_np[get_mask(label)].mean(axis=0)  \n",
        "    for label in range(10)\n",
        "  }\n",
        "\n",
        "#concatenate the mean hidden representations of each class into a matrix.\n",
        "def get_hidden_reprs_matrix(hidden_representation):  \n",
        "  label_to_mean_hidd_repr = get_label_to_mean_hidd_repr(hidden_representation)\n",
        "  return np.concatenate(\n",
        "    [np.expand_dims(label_to_mean_hidd_repr[label], axis=0)  # here we adjust the shape of centroids to do the concat\n",
        "    for label in range(10)])"
      ],
      "metadata": {
        "id": "lknNXuEJZceW"
      },
      "id": "lknNXuEJZceW",
      "execution_count": null,
      "outputs": []
    },
    {
      "cell_type": "code",
      "source": [
        "#get the mean hidden representation matrix for the third hidden layer.\n",
        "mean_hidd_repr_matrix_1 = get_hidden_reprs_matrix(hidden_repr_layer_1)\n",
        "mean_hidd_repr_matrix_2 = get_hidden_reprs_matrix(hidden_repr_layer_2)\n",
        "mean_hidd_repr_matrix_3 = get_hidden_reprs_matrix(hidden_repr_layer_3)"
      ],
      "metadata": {
        "id": "sABIChsiZfjz"
      },
      "id": "sABIChsiZfjz",
      "execution_count": null,
      "outputs": []
    },
    {
      "cell_type": "code",
      "source": [
        "#imports the scipy library for clustering\n",
        "import scipy.cluster as cluster\n",
        "\n",
        "#plot the dendrogram using the complete linkage clustering method\n",
        "def plot_dendrogram(mean_repr_matrix, title=\"\"):\n",
        "  fig, ax = plt.subplots()\n",
        "  linkage = cluster.hierarchy.linkage(mean_repr_matrix, method=\"complete\")  # we run the clustering algorithm here\n",
        "  dendrogram = cluster.hierarchy.dendrogram(linkage)\n",
        "  ax.set_title(title)"
      ],
      "metadata": {
        "id": "yBUQAIJxZk71"
      },
      "id": "yBUQAIJxZk71",
      "execution_count": null,
      "outputs": []
    },
    {
      "cell_type": "code",
      "source": [
        "#plot the dendrogram for the first hidden layer\n",
        "plot_dendrogram(mean_hidd_repr_matrix_1, \"first hidden layer\")"
      ],
      "metadata": {
        "colab": {
          "base_uri": "https://localhost:8080/",
          "height": 284
        },
        "id": "NEUVvWzY2WMK",
        "outputId": "dc132110-cbd6-46c4-991d-51d2c91dd601"
      },
      "id": "NEUVvWzY2WMK",
      "execution_count": null,
      "outputs": [
        {
          "output_type": "display_data",
          "data": {
            "text/plain": [
              "<Figure size 432x288 with 1 Axes>"
            ],
            "image/png": "[encoded data removed]"
          },
          "metadata": {
            "needs_background": "light"
          }
        }
      ]
    },
    {
      "cell_type": "code",
      "source": [
        "#plot the dendrogram for the second hidden layer\n",
        "plot_dendrogram(mean_hidd_repr_matrix_2, \"second hidden layer\")"
      ],
      "metadata": {
        "colab": {
          "base_uri": "https://localhost:8080/",
          "height": 284
        },
        "id": "2C0-ChsT2WA_",
        "outputId": "223bad40-bf47-4e02-c952-19eb6071cf9c"
      },
      "id": "2C0-ChsT2WA_",
      "execution_count": null,
      "outputs": [
        {
          "output_type": "display_data",
          "data": {
            "text/plain": [
              "<Figure size 432x288 with 1 Axes>"
            ],
            "image/png": "[encoded data removed]"
          },
          "metadata": {
            "needs_background": "light"
          }
        }
      ]
    },
    {
      "cell_type": "code",
      "source": [
        "#plot the dendrogram for the third hidden layer\n",
        "plot_dendrogram(mean_hidd_repr_matrix_3, \"third hidden layer\")"
      ],
      "metadata": {
        "colab": {
          "base_uri": "https://localhost:8080/",
          "height": 284
        },
        "id": "bsi_irHZZpLJ",
        "outputId": "99fb4e8f-3337-47d3-bec3-21e9c11f8c8c"
      },
      "id": "bsi_irHZZpLJ",
      "execution_count": null,
      "outputs": [
        {
          "output_type": "display_data",
          "data": {
            "text/plain": [
              "<Figure size 432x288 with 1 Axes>"
            ],
            "image/png": "[encoded data removed]"
          },
          "metadata": {
            "needs_background": "light"
          }
        }
      ]
    },
    {
      "cell_type": "markdown",
      "source": [
        "##visualize confusion matrices"
      ],
      "metadata": {
        "id": "ggTZXCKqoA0A"
      },
      "id": "ggTZXCKqoA0A"
    },
    {
      "cell_type": "markdown",
      "source": [
        "A confusion matrix is a table that is used to evaluate the performance of a classifier. It provides a summary of the comparison between the predicted class labels and the true class labels of instances in a dataset.\n",
        "\n",
        "The confusion matrix is then visualized using a heatmap created with the seaborn library. The plot displays the predicted label along the x-axis and the true label along the y-axis. The cells in the heatmap are colored based on the value of each cell, with white for high values and black for low values. The code then applies the function to the FashionMNIST dataset and shows the resulting plot."
      ],
      "metadata": {
        "id": "13dN8_0V_-IL"
      },
      "id": "13dN8_0V_-IL"
    },
    {
      "cell_type": "code",
      "source": [
        "from numpy.ma.core import size\n",
        "from sklearn.metrics import confusion_matrix\n",
        "import seaborn as sns\n",
        "\n",
        "def plot_confusion_matrix(y_true, y_pred, classes, normalize=True, title=None, cmap=plt.cm.Blues):\n",
        "    if not title:\n",
        "        if normalize:\n",
        "            title = 'Normalized confusion matrix'\n",
        "        else:\n",
        "            title = 'Confusion matrix, without normalization'\n",
        "\n",
        "    cm = confusion_matrix(y_true, y_pred)\n",
        "    if normalize:\n",
        "        cm = cm.astype('float') / cm.sum(axis=1)[:, np.newaxis]\n",
        "\n",
        "    fig, ax = plt.subplots(figsize=(15, 7))\n",
        "    im = ax.imshow(cm, interpolation='nearest', cmap=cmap)\n",
        "    ax.figure.colorbar(im, ax=ax)\n",
        "    ax.set(xticks=np.arange(cm.shape[1]),\n",
        "           yticks=np.arange(cm.shape[0]),\n",
        "           xticklabels=classes, yticklabels=classes,\n",
        "           title=title,\n",
        "           ylabel='True label',\n",
        "           xlabel='Predicted label')\n",
        "    plt.setp(ax.get_xticklabels(), rotation=45, ha=\"right\",\n",
        "             rotation_mode=\"anchor\")\n",
        "\n",
        "    fmt = '.2f' if normalize else 'd'\n",
        "    thresh = cm.max() / 2.\n",
        "    for i in range(cm.shape[0]):\n",
        "        for j in range(cm.shape[1]):\n",
        "            ax.text(j, i, format(cm[i, j], fmt),\n",
        "                    ha=\"center\", va=\"center\",\n",
        "                    color=\"white\" if cm[i, j] > thresh else \"black\")\n",
        "    fig.tight_layout()\n",
        "    return ax\n",
        "\n",
        "classes = list(range(10))\n",
        "y_true = FashionMNIST_test.targets.to(device).cpu().numpy()"
      ],
      "metadata": {
        "id": "yloJg2VYScHi"
      },
      "id": "yloJg2VYScHi",
      "execution_count": null,
      "outputs": []
    },
    {
      "cell_type": "code",
      "source": [
        "#confusion matrix for ffnn \n",
        "y_pred = predictions_ffnn.cpu().detach().max(axis=1).indices.numpy()\n",
        "plot_confusion_matrix(y_true, y_pred, classes)\n",
        "plt.show()"
      ],
      "metadata": {
        "colab": {
          "base_uri": "https://localhost:8080/",
          "height": 513
        },
        "id": "Q0eg9nC4hgdc",
        "outputId": "e55d4d85-fccb-41ff-8652-905dd9299c77"
      },
      "id": "Q0eg9nC4hgdc",
      "execution_count": null,
      "outputs": [
        {
          "output_type": "display_data",
          "data": {
            "text/plain": [
              "<Figure size 1080x504 with 2 Axes>"
            ],
            "image/png": "[encoded data removed]"
          },
          "metadata": {
            "needs_background": "light"
          }
        }
      ]
    },
    {
      "cell_type": "code",
      "source": [
        "#confusion matrix for the first layer of DBN\n",
        "y_pred = predictions_test1.cpu().detach().max(axis=1).indices.numpy()\n",
        "plot_confusion_matrix(y_true, y_pred, classes)\n",
        "plt.show()"
      ],
      "metadata": {
        "colab": {
          "base_uri": "https://localhost:8080/",
          "height": 513
        },
        "id": "AfwsoSpjhmSW",
        "outputId": "f9c4d5b5-ee52-4854-dfe6-db8d422331e4"
      },
      "id": "AfwsoSpjhmSW",
      "execution_count": null,
      "outputs": [
        {
          "output_type": "display_data",
          "data": {
            "text/plain": [
              "<Figure size 1080x504 with 2 Axes>"
            ],
            "image/png": "[encoded data removed]"
          },
          "metadata": {
            "needs_background": "light"
          }
        }
      ]
    },
    {
      "cell_type": "code",
      "source": [
        "#confusion matrix for the second layer of DBN\n",
        "y_pred = predictions_test2.cpu().detach().max(axis=1).indices.numpy()\n",
        "plot_confusion_matrix(y_true, y_pred, classes)\n",
        "plt.show()"
      ],
      "metadata": {
        "colab": {
          "base_uri": "https://localhost:8080/",
          "height": 513
        },
        "id": "uREdpMCThyB8",
        "outputId": "9e27c22b-a26b-437f-a7ab-9ed7e46e9dbc"
      },
      "id": "uREdpMCThyB8",
      "execution_count": null,
      "outputs": [
        {
          "output_type": "display_data",
          "data": {
            "text/plain": [
              "<Figure size 1080x504 with 2 Axes>"
            ],
            "image/png": "[encoded data removed]"
          },
          "metadata": {
            "needs_background": "light"
          }
        }
      ]
    },
    {
      "cell_type": "code",
      "source": [
        "#confusion matrix for the third layer of DBN\n",
        "y_pred = predictions_test3.cpu().detach().max(axis=1).indices.numpy()\n",
        "plot_confusion_matrix(y_true, y_pred, classes)\n",
        "plt.show()"
      ],
      "metadata": {
        "colab": {
          "base_uri": "https://localhost:8080/",
          "height": 513
        },
        "id": "XySBKmp8h2HH",
        "outputId": "b214c8ea-0952-4ee9-9cdc-5fad76a856d5"
      },
      "id": "XySBKmp8h2HH",
      "execution_count": null,
      "outputs": [
        {
          "output_type": "display_data",
          "data": {
            "text/plain": [
              "<Figure size 1080x504 with 2 Axes>"
            ],
            "image/png": "[encoded data removed]"
          },
          "metadata": {
            "needs_background": "light"
          }
        }
      ]
    },
    {
      "cell_type": "markdown",
      "source": [
        "##Evasion attack"
      ],
      "metadata": {
        "id": "yui_135cUI7X"
      },
      "id": "yui_135cUI7X"
    },
    {
      "cell_type": "markdown",
      "source": [
        "evasion attack using FFNN model\n",
        "\n",
        "An evasion attack, in the context of machine learning, is an attack where the attacker modifies the inputs to a model in such a way that the model's prediction changes. The goal of the attacker is to cause the model to make incorrect predictions, either by misclassifying the input or by making the model confident in an incorrect prediction.\n",
        "\n"
      ],
      "metadata": {
        "id": "JK4B3pSkHqp-"
      },
      "id": "JK4B3pSkHqp-"
    },
    {
      "cell_type": "code",
      "source": [
        "# Choose an image to attack\n",
        "attacked_model = ffnn\n",
        "index = 6\n",
        "original_image = FashionMNIST_test.data[index].reshape((28, 28))\n",
        "prediction = attacked_model(FashionMNIST_test.data[index].reshape(1, 28, 28).to(device)).cpu().detach().max(axis=1).indices.numpy()[0]\n",
        "true_label = FashionMNIST_test.targets[index].numpy()\n",
        "\n",
        "\n",
        "epsilon = 0.5 # magnitude of the perturbation\n",
        "perturbation = np.random.rand(*original_image.shape) * 2 * epsilon - epsilon\n",
        "perturbed_image = original_image + perturbation\n",
        "perturbed_image = np.clip(perturbed_image, 0, 1)\n",
        "\n",
        "# Evaluate the model on the Evasion attack\n",
        "perturbed_prediction = attacked_model(perturbed_image.reshape(1, 28, 28).to(device)).cpu().detach().max(axis=1).indices.numpy()[0]"
      ],
      "metadata": {
        "id": "wapcGNQK4y7K"
      },
      "id": "wapcGNQK4y7K",
      "execution_count": null,
      "outputs": []
    },
    {
      "cell_type": "code",
      "source": [
        "print('True label:', true_label)\n",
        "print('Prediction before attack:', prediction)\n",
        "__ = plt.imshow(original_image)"
      ],
      "metadata": {
        "colab": {
          "base_uri": "https://localhost:8080/",
          "height": 299
        },
        "id": "b82a-Y9wJmAe",
        "outputId": "ed4f8ac2-20b9-4d21-8009-35fdbdf3bbd6"
      },
      "id": "b82a-Y9wJmAe",
      "execution_count": null,
      "outputs": [
        {
          "output_type": "stream",
          "name": "stdout",
          "text": [
            "True label: 4\n",
            "Prediction before attack: 4\n"
          ]
        },
        {
          "output_type": "display_data",
          "data": {
            "text/plain": [
              "<Figure size 432x288 with 1 Axes>"
            ],
            "image/png": "[encoded data removed]"
          },
          "metadata": {
            "needs_background": "light"
          }
        }
      ]
    },
    {
      "cell_type": "code",
      "source": [
        "print('Prediction after attack:', perturbed_prediction)\n",
        "__ = plt.imshow(perturbed_image.reshape(28,28))"
      ],
      "metadata": {
        "colab": {
          "base_uri": "https://localhost:8080/",
          "height": 282
        },
        "id": "gEHAcwC7GmsO",
        "outputId": "b7284e2f-ccf5-4d20-9611-dfb62857aace"
      },
      "id": "gEHAcwC7GmsO",
      "execution_count": null,
      "outputs": [
        {
          "output_type": "stream",
          "name": "stdout",
          "text": [
            "Prediction after attack: 6\n"
          ]
        },
        {
          "output_type": "display_data",
          "data": {
            "text/plain": [
              "<Figure size 432x288 with 1 Axes>"
            ],
            "image/png": "[encoded data removed]"
          },
          "metadata": {
            "needs_background": "light"
          }
        }
      ]
    }
  ],
  "metadata": {
    "kernelspec": {
      "display_name": "Python 3 (ipykernel)",
      "language": "python",
      "name": "python3"
    },
    "language_info": {
      "codemirror_mode": {
        "name": "ipython",
        "version": 3
      },
      "file_extension": ".py",
      "mimetype": "text/x-python",
      "name": "python",
      "nbconvert_exporter": "python",
      "pygments_lexer": "ipython3",
      "version": "3.9.12"
    },
    "colab": {
      "provenance": []
    },
    "accelerator": "GPU",
    "gpuClass": "standard"
  },
  "nbformat": 4,
  "nbformat_minor": 5
}